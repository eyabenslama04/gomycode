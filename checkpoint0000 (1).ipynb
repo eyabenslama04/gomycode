{
 "cells": [
  {
   "cell_type": "markdown",
   "metadata": {},
   "source": [
    "# Q1"
   ]
  },
  {
   "cell_type": "code",
   "execution_count": 1,
   "metadata": {},
   "outputs": [
    {
     "name": "stdout",
     "output_type": "stream",
     "text": [
      "12\n"
     ]
    }
   ],
   "source": [
    "def maximum(a,b,c):\n",
    "    if a<b and c<b:\n",
    "        return(b)\n",
    "    if b<a and c<a:\n",
    "        return(a)\n",
    "    else:\n",
    "        return(c)\n",
    "print(maximum(2,3,12))"
   ]
  },
  {
   "cell_type": "markdown",
   "metadata": {},
   "source": [
    "# Q2"
   ]
  },
  {
   "cell_type": "code",
   "execution_count": 54,
   "metadata": {},
   "outputs": [
    {
     "name": "stdout",
     "output_type": "stream",
     "text": [
      "sumlist: 6\n",
      "multiplylist: 6\n",
      "x: 4\n",
      "y: 10\n"
     ]
    }
   ],
   "source": [
    "def sumList(list1) : \n",
    "    k= 0\n",
    "    for x in list1: \n",
    "         k = k + x  \n",
    "    return k  \n",
    "list1 = [1,5]\n",
    "print(\"sumlist:\",sumList(list1))\n",
    "def multiplyList(list2) : \n",
    "    k= 1\n",
    "    for x in list2: \n",
    "         k = k * x  \n",
    "    return k  \n",
    "list2 = [3,2]\n",
    "print(\"multiplylist:\",multiplyList(list2))  \n",
    "list3 = list1+list2\n",
    "summ = 0\n",
    "for i in range(0,len(list3),2):\n",
    "    summ += list3[i]\n",
    "print('x:',summ)\n",
    "mult = 1\n",
    "for i in range(1,len(list3),2):\n",
    "    mult *= list3[i]\n",
    "print('y:',mult)"
   ]
  },
  {
   "cell_type": "markdown",
   "metadata": {},
   "source": [
    "# Q3"
   ]
  },
  {
   "cell_type": "code",
   "execution_count": 3,
   "metadata": {},
   "outputs": [
    {
     "name": "stdout",
     "output_type": "stream",
     "text": [
      "enter a list:green-red-yellow-black-white\n",
      "['black', 'green', 'red', 'white', 'yellow']\n"
     ]
    }
   ],
   "source": [
    "mylist=input(\"enter a list:\")\n",
    "mylist1=mylist.split('-')\n",
    "mylist1.sort()\n",
    "print(mylist1)"
   ]
  }
 ],
 "metadata": {
  "kernelspec": {
   "display_name": "Python 3",
   "language": "python",
   "name": "python3"
  },
  "language_info": {
   "codemirror_mode": {
    "name": "ipython",
    "version": 3
   },
   "file_extension": ".py",
   "mimetype": "text/x-python",
   "name": "python",
   "nbconvert_exporter": "python",
   "pygments_lexer": "ipython3",
   "version": "3.8.3"
  }
 },
 "nbformat": 4,
 "nbformat_minor": 4
}
