{
 "cells": [
  {
   "cell_type": "markdown",
   "metadata": {},
   "source": [
    "# Q1"
   ]
  },
  {
   "cell_type": "code",
   "execution_count": 12,
   "metadata": {},
   "outputs": [
    {
     "name": "stdout",
     "output_type": "stream",
     "text": [
      "[1, 99, 5]\n"
     ]
    }
   ],
   "source": [
    "import numpy as np\n",
    "def array_list(array_num): \n",
    "    num_list = array_num.tolist()\n",
    "    print(num_list) \n",
    "array_num = np.array([1,99,5])\n",
    "array_list(array_num)"
   ]
  },
  {
   "cell_type": "markdown",
   "metadata": {},
   "source": [
    "# Q2"
   ]
  },
  {
   "cell_type": "code",
   "execution_count": 45,
   "metadata": {},
   "outputs": [
    {
     "name": "stdout",
     "output_type": "stream",
     "text": [
      "[[4 6 0]\n",
      " [2 1 3]\n",
      " [7 2 5]]\n",
      "sum : 10\n",
      "sum2 : 8\n"
     ]
    }
   ],
   "source": [
    "import numpy as np\n",
    "a=np.array([[4,6,0],[2,1,3],[7,2,5]])\n",
    "print(a)\n",
    "m=np.trace(a)\n",
    "print(\"sum :\", m)\n",
    "c=a[2][0]\n",
    "d=a[1][1]\n",
    "e=a[0][2]\n",
    "sum2=c+d+e\n",
    "print(\"sum2 :\",sum2)"
   ]
  },
  {
   "cell_type": "markdown",
   "metadata": {},
   "source": [
    "# Q3"
   ]
  },
  {
   "cell_type": "code",
   "execution_count": 64,
   "metadata": {},
   "outputs": [
    {
     "name": "stdout",
     "output_type": "stream",
     "text": [
      "[3, 5]\n"
     ]
    }
   ],
   "source": [
    "import numpy as np\n",
    "a=np.array([[1,2],[3,5]])\n",
    "my_list=[]\n",
    "x=2\n",
    "if x<a[0][0]:\n",
    "    my_list.append(a[0][0])\n",
    "if x<a[0][1]:\n",
    "    my_list.append(a[0][1])\n",
    "if x<a[1][0]:\n",
    "    my_list.append(a[1][0])\n",
    "if x<a[1][1]:\n",
    "    my_list.append(a[1][1])\n",
    "print(my_list)\n",
    "    "
   ]
  },
  {
   "cell_type": "markdown",
   "metadata": {},
   "source": [
    "# Q4"
   ]
  },
  {
   "cell_type": "code",
   "execution_count": 46,
   "metadata": {},
   "outputs": [
    {
     "name": "stdout",
     "output_type": "stream",
     "text": [
      "[[ 9 10  1]\n",
      " [ 9  3 11]\n",
      " [ 8  6  5]]\n"
     ]
    }
   ],
   "source": [
    "import numpy as np\n",
    "a=np.array([[4,6,0],[2,1,3],[7,2,5]])\n",
    "b=np.array([[5,4,1],[7,2,8],[1,4,0]])\n",
    "c=a+b\n",
    "print(c)"
   ]
  },
  {
   "cell_type": "markdown",
   "metadata": {},
   "source": [
    "# Q5"
   ]
  },
  {
   "cell_type": "code",
   "execution_count": 57,
   "metadata": {},
   "outputs": [
    {
     "name": "stdout",
     "output_type": "stream",
     "text": [
      "[[4 6 2]\n",
      " [1 3 2]\n",
      " [6 7 8]]\n",
      "4.0\n",
      "2.0\n",
      "7.0\n"
     ]
    }
   ],
   "source": [
    "import numpy as np\n",
    "a=np.array([[4,6,2],[1,3,2],[6,7,8]])\n",
    "print(a)\n",
    "x=(a[0][0]+a[0][1]+a[0][2])/len(a)\n",
    "print(x)\n",
    "y=(a[1][0]+a[1][1]+a[1][2])/len(a)\n",
    "print(y)\n",
    "z=(a[2][0]+a[2][1]+a[2][2])/len(a)\n",
    "print(z)"
   ]
  }
 ],
 "metadata": {
  "kernelspec": {
   "display_name": "Python 3",
   "language": "python",
   "name": "python3"
  },
  "language_info": {
   "codemirror_mode": {
    "name": "ipython",
    "version": 3
   },
   "file_extension": ".py",
   "mimetype": "text/x-python",
   "name": "python",
   "nbconvert_exporter": "python",
   "pygments_lexer": "ipython3",
   "version": "3.8.3"
  }
 },
 "nbformat": 4,
 "nbformat_minor": 4
}
