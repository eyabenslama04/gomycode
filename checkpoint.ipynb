{
 "cells": [
  {
   "cell_type": "code",
   "execution_count": 12,
   "metadata": {},
   "outputs": [
    {
     "name": "stdout",
     "output_type": "stream",
     "text": [
      "your first name: eya\n",
      "your last name: ben slama\n",
      "ben slama   eya\n"
     ]
    }
   ],
   "source": [
    "f = input(\"your first name: \")\n",
    "l = input(\"your last name: \")\n",
    "print(l,\" \",f)"
   ]
  },
  {
   "cell_type": "code",
   "execution_count": 13,
   "metadata": {},
   "outputs": [
    {
     "name": "stdout",
     "output_type": "stream",
     "text": [
      "give a number: 5\n",
      "615\n"
     ]
    }
   ],
   "source": [
    "n = int(input(\"give a number: \"))\n",
    "z = n+(n*11)+(n*111)\n",
    "print(z)"
   ]
  },
  {
   "cell_type": "code",
   "execution_count": 19,
   "metadata": {},
   "outputs": [
    {
     "name": "stdout",
     "output_type": "stream",
     "text": [
      "enter a number: 465890\n",
      "465890 is an even number\n"
     ]
    }
   ],
   "source": [
    "n = int(input(\"enter a number: \"))\n",
    "k = n%2 \n",
    "if k == 0:\n",
    " print(n,\"is an even number\")\n",
    "else : print(n,\"is an odd number\")"
   ]
  },
  {
   "cell_type": "code",
   "execution_count": 48,
   "metadata": {},
   "outputs": [
    {
     "name": "stdout",
     "output_type": "stream",
     "text": [
      "enter a number: 6578\n",
      "6578 is not a leap year\n"
     ]
    }
   ],
   "source": [
    "n = int(input(\"enter a number: \"))\n",
    "if n%4 == 0 and n%100 != 0 :\n",
    " print(n,\"is a leap year\")\n",
    "elif n%100 == 0:\n",
    " print(n,\"is not a leap year\")\n",
    "else:\n",
    " print(n,\"is not a leap year\")"
   ]
  },
  {
   "cell_type": "code",
   "execution_count": 56,
   "metadata": {},
   "outputs": [
    {
     "name": "stdout",
     "output_type": "stream",
     "text": [
      "enter a string:hello team\n",
      "hlota\n"
     ]
    }
   ],
   "source": [
    "s=input(\"enter a string:\")\n",
    "c=\"\"\n",
    "for i in range (0,len(s)):\n",
    "    if i%2==0:\n",
    "        c=c+s[i]\n",
    "print(c)"
   ]
  },
  {
   "cell_type": "code",
   "execution_count": 69,
   "metadata": {},
   "outputs": [
    {
     "name": "stdout",
     "output_type": "stream",
     "text": [
      "enter a price: 140\n",
      "you have to pay 126.0\n"
     ]
    }
   ],
   "source": [
    "n=int(input(\"enter a price: \"))\n",
    "if n>0:\n",
    " if n>=500:\n",
    "    p=(n*50)/100\n",
    "    print(\"you have to pay\",p)\n",
    " elif n>=200 and n<500:\n",
    "    p=(n*70)/100\n",
    "    print(\"you have to pay\",p)\n",
    " elif n<200:\n",
    "    p=(n*90)/100\n",
    "    print(\"you have to pay\",p)\n",
    "else:\n",
    "    print(\"no discount\")"
   ]
  },
  {
   "cell_type": "code",
   "execution_count": null,
   "metadata": {},
   "outputs": [],
   "source": []
  }
 ],
 "metadata": {
  "kernelspec": {
   "display_name": "Python 3",
   "language": "python",
   "name": "python3"
  },
  "language_info": {
   "codemirror_mode": {
    "name": "ipython",
    "version": 3
   },
   "file_extension": ".py",
   "mimetype": "text/x-python",
   "name": "python",
   "nbconvert_exporter": "python",
   "pygments_lexer": "ipython3",
   "version": "3.8.3"
  }
 },
 "nbformat": 4,
 "nbformat_minor": 4
}
