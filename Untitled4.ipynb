{
 "cells": [
  {
   "cell_type": "code",
   "execution_count": 1,
   "metadata": {},
   "outputs": [
    {
     "name": "stdout",
     "output_type": "stream",
     "text": [
      "12\n"
     ]
    }
   ],
   "source": [
    "def maximum(a,b,c):\n",
    "    if a<b and c<b:\n",
    "        return(b)\n",
    "    if b<a and c<a:\n",
    "        return(a)\n",
    "    else:\n",
    "        return(c)\n",
    "print(maximum(2,3,12))"
   ]
  },
  {
   "cell_type": "code",
   "execution_count": 3,
   "metadata": {},
   "outputs": [
    {
     "name": "stdout",
     "output_type": "stream",
     "text": [
      "enter a list:green-red-yellow-black-white\n",
      "['black', 'green', 'red', 'white', 'yellow']\n"
     ]
    }
   ],
   "source": [
    "mylist=input(\"enter a list:\")\n",
    "mylist1=mylist.split('-')\n",
    "mylist1.sort()\n",
    "print(mylist1)"
   ]
  },
  {
   "cell_type": "code",
   "execution_count": 14,
   "metadata": {},
   "outputs": [
    {
     "name": "stdout",
     "output_type": "stream",
     "text": [
      "Sumlist:  74\n",
      "multiplylist: 30\n"
     ]
    }
   ],
   "source": [
    "list1 = [11, 5, 17, 18, 23] \n",
    "total = sum(list1) \n",
    "print(\"Sumlist: \", total)\n",
    "def multiplyList(myList) : \n",
    "    k= 1\n",
    "    for x in myList: \n",
    "         k = k * x  \n",
    "    return k  \n",
    "list1 = [1, 2, 3,5]\n",
    "print(\"multiplylist:\",multiplyList(list1)) \n",
    "def EvenSum(a,list1): \n",
    "    even = 0\n",
    "    for i in range(list1): \n",
    "        if i % 2 == 0: \n",
    "            even += a[i]\n",
    "            print(\"Even index positions sum \", even)\n",
    "        else:\n",
    "            print(\"no even numbers\")"
   ]
  },
  {
   "cell_type": "code",
   "execution_count": null,
   "metadata": {},
   "outputs": [],
   "source": []
  }
 ],
 "metadata": {
  "kernelspec": {
   "display_name": "Python 3",
   "language": "python",
   "name": "python3"
  },
  "language_info": {
   "codemirror_mode": {
    "name": "ipython",
    "version": 3
   },
   "file_extension": ".py",
   "mimetype": "text/x-python",
   "name": "python",
   "nbconvert_exporter": "python",
   "pygments_lexer": "ipython3",
   "version": "3.8.3"
  }
 },
 "nbformat": 4,
 "nbformat_minor": 4
}
